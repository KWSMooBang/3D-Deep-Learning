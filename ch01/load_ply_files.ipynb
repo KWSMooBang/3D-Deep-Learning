{
 "cells": [
  {
   "cell_type": "markdown",
   "metadata": {},
   "source": [
    "<h5> Load cube"
   ]
  },
  {
   "cell_type": "code",
   "execution_count": 1,
   "metadata": {},
   "outputs": [
    {
     "name": "stdout",
     "output_type": "stream",
     "text": [
      "Jupyter environment detected. Enabling Open3D WebVisualizer.\n",
      "[Open3D INFO] WebRTC GUI backend enabled.\n",
      "[Open3D INFO] WebRTCWindowSystem: HTTP handshake server disabled.\n",
      "visualizing the mesh using open3D\n",
      "Loading the same file with Pytorch3D\n",
      "Type of verices:  <class 'torch.Tensor'>\n",
      "Type of faces:  <class 'torch.Tensor'>\n",
      "vertices:  tensor([[-1., -1.,  1.],\n",
      "        [-1.,  1.,  1.],\n",
      "        [-1.,  1., -1.],\n",
      "        [ 1.,  1.,  1.],\n",
      "        [ 1.,  1., -1.],\n",
      "        [ 1., -1.,  1.],\n",
      "        [ 1., -1., -1.],\n",
      "        [-1., -1., -1.]])\n",
      "faces:  tensor([[0, 1, 2],\n",
      "        [1, 3, 4],\n",
      "        [3, 5, 6],\n",
      "        [0, 7, 5],\n",
      "        [7, 2, 4],\n",
      "        [5, 3, 1],\n",
      "        [7, 0, 2],\n",
      "        [2, 1, 4],\n",
      "        [4, 3, 6],\n",
      "        [5, 7, 6],\n",
      "        [6, 7, 4],\n",
      "        [0, 5, 1]])\n"
     ]
    }
   ],
   "source": [
    "import open3d\n",
    "from pytorch3d.io import load_ply\n",
    "\n",
    "mesh_file = 'data/cube.ply'\n",
    "print(\"visualizing the mesh using open3D\")\n",
    "mesh = open3d.io.read_triangle_mesh(mesh_file)\n",
    "open3d.visualization.draw_geometries(\n",
    "    [mesh],\n",
    "    mesh_show_wireframe=True,\n",
    "    mesh_show_back_face=True\n",
    ")\n",
    "\n",
    "print(\"Loading the same file with Pytorch3D\")\n",
    "vertices, faces = load_ply(mesh_file)\n",
    "print(\"Type of verices: \", type(vertices))\n",
    "print(\"Type of faces: \", type(faces))\n",
    "print(\"vertices: \", vertices)\n",
    "print(\"faces: \", faces)"
   ]
  },
  {
   "cell_type": "markdown",
   "metadata": {},
   "source": [
    "<h5> Load parallel plane mono"
   ]
  },
  {
   "cell_type": "code",
   "execution_count": 3,
   "metadata": {},
   "outputs": [
    {
     "name": "stdout",
     "output_type": "stream",
     "text": [
      "visualizing the mesh using open3D\n",
      "Loadint the same file with Pyorch3D\n",
      "Type of verices:  <class 'torch.Tensor'>\n",
      "Type of faces:  <class 'torch.Tensor'>\n",
      "vertices:  tensor([[-1., -1., -1.],\n",
      "        [ 1., -1., -1.],\n",
      "        [ 1.,  1., -1.],\n",
      "        [-1.,  1., -1.],\n",
      "        [-1., -1.,  1.],\n",
      "        [ 1., -1.,  1.],\n",
      "        [ 1.,  1.,  1.],\n",
      "        [-1.,  1.,  1.]])\n",
      "faces:  tensor([[0, 1, 2],\n",
      "        [0, 2, 3],\n",
      "        [5, 4, 7],\n",
      "        [5, 7, 6]])\n"
     ]
    }
   ],
   "source": [
    "mesh_file = \"data/parallel_plane_mono.ply\"\n",
    "print(\"visualizing the mesh using open3D\")\n",
    "mesh = open3d.io.read_triangle_mesh(mesh_file)\n",
    "open3d.visualization.draw_geometries(\n",
    "    [mesh],\n",
    "    mesh_show_wireframe=True,\n",
    "    mesh_show_back_face=True,\n",
    ")\n",
    "\n",
    "print(\"Loadint the same file with Pyorch3D\")\n",
    "vertices, faces = load_ply(mesh_file)\n",
    "print(\"Type of verices: \", type(vertices))\n",
    "print(\"Type of faces: \", type(faces))\n",
    "print(\"vertices: \", vertices)\n",
    "print(\"faces: \", faces)"
   ]
  },
  {
   "cell_type": "markdown",
   "metadata": {},
   "source": [
    "<h5> Load parallel plane color"
   ]
  },
  {
   "cell_type": "code",
   "execution_count": 4,
   "metadata": {},
   "outputs": [
    {
     "name": "stdout",
     "output_type": "stream",
     "text": [
      "visualizing the mesh using open3D\n",
      "Loadint the same file with Pyorch3D\n",
      "Type of verices:  <class 'torch.Tensor'>\n",
      "Type of faces:  <class 'torch.Tensor'>\n",
      "vertices:  tensor([[-1., -1., -1.],\n",
      "        [ 1., -1., -1.],\n",
      "        [ 1.,  1., -1.],\n",
      "        [-1.,  1., -1.],\n",
      "        [-1., -1.,  1.],\n",
      "        [ 1., -1.,  1.],\n",
      "        [ 1.,  1.,  1.],\n",
      "        [-1.,  1.,  1.]])\n",
      "faces:  tensor([[0, 1, 2],\n",
      "        [0, 2, 3],\n",
      "        [5, 4, 7],\n",
      "        [5, 7, 6]])\n"
     ]
    }
   ],
   "source": [
    "mesh_file = \"data/parallel_plane_color.ply\"\n",
    "print(\"visualizing the mesh using open3D\")\n",
    "mesh = open3d.io.read_triangle_mesh(mesh_file)\n",
    "open3d.visualization.draw_geometries(\n",
    "    [mesh],\n",
    "    mesh_show_wireframe=True,\n",
    "    mesh_show_back_face=True,\n",
    ")\n",
    "\n",
    "print(\"Loadint the same file with Pyorch3D\")\n",
    "vertices, faces = load_ply(mesh_file)\n",
    "print(\"Type of verices: \", type(vertices))\n",
    "print(\"Type of faces: \", type(faces))\n",
    "print(\"vertices: \", vertices)\n",
    "print(\"faces: \", faces)"
   ]
  },
  {
   "cell_type": "markdown",
   "metadata": {},
   "source": [
    "<h5> Load cow"
   ]
  },
  {
   "cell_type": "code",
   "execution_count": 2,
   "metadata": {},
   "outputs": [
    {
     "name": "stdout",
     "output_type": "stream",
     "text": [
      "visualizing the mesh using open3D\n",
      "Loadint the same file with Pyorch3D\n",
      "Type of verices:  <class 'torch.Tensor'>\n",
      "Type of faces:  <class 'torch.Tensor'>\n",
      "vertices:  tensor([[ 0.6055,  0.1831, -0.4723],\n",
      "        [ 0.6492,  0.1297, -0.4949],\n",
      "        [ 0.6011,  0.1055, -0.5333],\n",
      "        ...,\n",
      "        [-1.4558,  0.6748,  0.2449],\n",
      "        [-1.2448,  0.6488,  0.2009],\n",
      "        [-1.4893,  0.6437,  0.2272]])\n",
      "faces:  tensor([[   0,    1,    2],\n",
      "        [   1,    3,    4],\n",
      "        [   5,    6,    2],\n",
      "        ...,\n",
      "        [2370, 2839, 2837],\n",
      "        [2491, 2013, 2011],\n",
      "        [2498, 2381, 2433]])\n"
     ]
    }
   ],
   "source": [
    "mesh_file = \"data/cow.ply\"\n",
    "print(\"visualizing the mesh using open3D\")\n",
    "mesh = open3d.io.read_triangle_mesh(mesh_file)\n",
    "open3d.visualization.draw_geometries(\n",
    "    [mesh],\n",
    "    mesh_show_wireframe=True,\n",
    "    mesh_show_back_face=True,\n",
    ")\n",
    "\n",
    "print(\"Loadint the same file with Pyorch3D\")\n",
    "vertices, faces = load_ply(mesh_file)\n",
    "print(\"Type of verices: \", type(vertices))\n",
    "print(\"Type of faces: \", type(faces))\n",
    "print(\"vertices: \", vertices)\n",
    "print(\"faces: \", faces)"
   ]
  },
  {
   "cell_type": "code",
   "execution_count": null,
   "metadata": {},
   "outputs": [],
   "source": []
  }
 ],
 "metadata": {
  "kernelspec": {
   "display_name": "deep_learning",
   "language": "python",
   "name": "python3"
  },
  "language_info": {
   "codemirror_mode": {
    "name": "ipython",
    "version": 3
   },
   "file_extension": ".py",
   "mimetype": "text/x-python",
   "name": "python",
   "nbconvert_exporter": "python",
   "pygments_lexer": "ipython3",
   "version": "3.9.20"
  }
 },
 "nbformat": 4,
 "nbformat_minor": 2
}
